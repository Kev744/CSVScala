{
 "cells": [
  {
   "attachments": {},
   "cell_type": "markdown",
   "id": "3e3d2a4c",
   "metadata": {},
   "source": [
    "# My Jupyter Notebook on IBM Watson Studio"
   ]
  },
  {
   "cell_type": "markdown",
   "id": "9e88070f",
   "metadata": {},
   "source": [
    "__SEBASTIAO-ESTEVES Kévin__\n",
    "\n",
    "Student"
   ]
  },
  {
   "cell_type": "markdown",
   "id": "2ede41c8",
   "metadata": {},
   "source": [
    "*I am interested in data science because I love to gain insights from data and it's so pleasant to organize data*"
   ]
  },
  {
   "cell_type": "markdown",
   "id": "98d0c042",
   "metadata": {},
   "source": [
    "### it multiplies the number one with seven"
   ]
  },
  {
   "cell_type": "code",
   "execution_count": 1,
   "id": "27d6d098",
   "metadata": {},
   "outputs": [
    {
     "data": {
      "text/plain": [
       "7"
      ]
     },
     "execution_count": 1,
     "metadata": {},
     "output_type": "execute_result"
    }
   ],
   "source": [
    "7*1"
   ]
  },
  {
   "cell_type": "markdown",
   "id": "d22c7ca1",
   "metadata": {},
   "source": [
    "* One\n",
    "* Two\n",
    "* Three\n",
    "* Four\n",
    "* Five\n",
    "\n",
    "    |**Markdown**|**Less**|**Pretty**|\n",
    "    |- - - | --- | --- |\n",
    "    |Still |renders |nicely |\n",
    "    |**1** |**2** |**3** |"
   ]
  },
  {
   "cell_type": "markdown",
   "id": "5a9d8c01",
   "metadata": {},
   "source": []
  },
  {
   "cell_type": "code",
   "execution_count": null,
   "id": "89ece667",
   "metadata": {},
   "outputs": [],
   "source": []
  }
 ],
 "metadata": {
  "kernelspec": {
   "display_name": "Python 3 (ipykernel)",
   "language": "python",
   "name": "python3"
  },
  "language_info": {
   "codemirror_mode": {
    "name": "ipython",
    "version": 3
   },
   "file_extension": ".py",
   "mimetype": "text/x-python",
   "name": "python",
   "nbconvert_exporter": "python",
   "pygments_lexer": "ipython3",
   "version": "3.9.12"
  }
 },
 "nbformat": 4,
 "nbformat_minor": 5
}
